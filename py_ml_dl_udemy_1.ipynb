{
 "cells": [
  {
   "cell_type": "code",
   "execution_count": 2,
   "id": "3573be96",
   "metadata": {},
   "outputs": [],
   "source": [
    "import pandas"
   ]
  },
  {
   "cell_type": "code",
   "execution_count": 3,
   "id": "461a53b7",
   "metadata": {
    "scrolled": true
   },
   "outputs": [
    {
     "name": "stdout",
     "output_type": "stream",
     "text": [
      "Collecting pandas\n",
      "  Downloading pandas-2.0.0-cp311-cp311-macosx_10_9_x86_64.whl (11.6 MB)\n",
      "\u001b[2K     \u001b[90m━━━━━━━━━━━━━━━━━━━━━━━━━━━━━━━━━━━━━━━━\u001b[0m \u001b[32m11.6/11.6 MB\u001b[0m \u001b[31m1.9 MB/s\u001b[0m eta \u001b[36m0:00:00\u001b[0m00:01\u001b[0m00:01\u001b[0m\n",
      "\u001b[?25hRequirement already satisfied: python-dateutil>=2.8.2 in /Users/ada4sh/opt/anaconda3/envs/python_udemy_ml_dl_env/lib/python3.11/site-packages (from pandas) (2.8.2)\n",
      "Collecting pytz>=2020.1\n",
      "  Downloading pytz-2023.3-py2.py3-none-any.whl (502 kB)\n",
      "\u001b[2K     \u001b[90m━━━━━━━━━━━━━━━━━━━━━━━━━━━━━━━━━━━━━━━\u001b[0m \u001b[32m502.3/502.3 kB\u001b[0m \u001b[31m1.4 MB/s\u001b[0m eta \u001b[36m0:00:00\u001b[0m00:01\u001b[0m00:01\u001b[0m\n",
      "\u001b[?25hCollecting tzdata>=2022.1\n",
      "  Downloading tzdata-2023.3-py2.py3-none-any.whl (341 kB)\n",
      "\u001b[2K     \u001b[90m━━━━━━━━━━━━━━━━━━━━━━━━━━━━━━━━━━━━━━━\u001b[0m \u001b[32m341.8/341.8 kB\u001b[0m \u001b[31m2.2 MB/s\u001b[0m eta \u001b[36m0:00:00\u001b[0m00:01\u001b[0m00:01\u001b[0m\n",
      "\u001b[?25hCollecting numpy>=1.21.0\n",
      "  Using cached numpy-1.24.2-cp311-cp311-macosx_10_9_x86_64.whl (19.8 MB)\n",
      "Requirement already satisfied: six>=1.5 in /Users/ada4sh/opt/anaconda3/envs/python_udemy_ml_dl_env/lib/python3.11/site-packages (from python-dateutil>=2.8.2->pandas) (1.16.0)\n",
      "Installing collected packages: pytz, tzdata, numpy, pandas\n",
      "Successfully installed numpy-1.24.2 pandas-2.0.0 pytz-2023.3 tzdata-2023.3\n",
      "Note: you may need to restart the kernel to use updated packages.\n"
     ]
    }
   ],
   "source": [
    "pip install pandas"
   ]
  },
  {
   "cell_type": "code",
   "execution_count": 3,
   "id": "b2709411",
   "metadata": {},
   "outputs": [
    {
     "data": {
      "text/plain": [
       "'2.0.0'"
      ]
     },
     "execution_count": 3,
     "metadata": {},
     "output_type": "execute_result"
    }
   ],
   "source": [
    "pandas.__version__"
   ]
  },
  {
   "cell_type": "code",
   "execution_count": 4,
   "id": "e95724cd",
   "metadata": {},
   "outputs": [
    {
     "data": {
      "text/plain": [
       "int"
      ]
     },
     "execution_count": 4,
     "metadata": {},
     "output_type": "execute_result"
    }
   ],
   "source": [
    "type (1)"
   ]
  },
  {
   "cell_type": "code",
   "execution_count": 5,
   "id": "7353bb93",
   "metadata": {},
   "outputs": [
    {
     "data": {
      "text/plain": [
       "float"
      ]
     },
     "execution_count": 5,
     "metadata": {},
     "output_type": "execute_result"
    }
   ],
   "source": [
    "type (1.0)"
   ]
  },
  {
   "cell_type": "code",
   "execution_count": 6,
   "id": "66eda0ac",
   "metadata": {},
   "outputs": [
    {
     "data": {
      "text/plain": [
       "str"
      ]
     },
     "execution_count": 6,
     "metadata": {},
     "output_type": "execute_result"
    }
   ],
   "source": [
    "type('blah')"
   ]
  },
  {
   "cell_type": "code",
   "execution_count": 7,
   "id": "440219c1",
   "metadata": {},
   "outputs": [
    {
     "data": {
      "text/plain": [
       "8"
      ]
     },
     "execution_count": 7,
     "metadata": {},
     "output_type": "execute_result"
    }
   ],
   "source": [
    "2*4"
   ]
  },
  {
   "cell_type": "code",
   "execution_count": 8,
   "id": "3b5e396f",
   "metadata": {},
   "outputs": [
    {
     "data": {
      "text/plain": [
       "16"
      ]
     },
     "execution_count": 8,
     "metadata": {},
     "output_type": "execute_result"
    }
   ],
   "source": [
    "2**4"
   ]
  },
  {
   "cell_type": "markdown",
   "id": "34fad2fa",
   "metadata": {},
   "source": [
    "###### "
   ]
  },
  {
   "cell_type": "code",
   "execution_count": 10,
   "id": "148ec83c",
   "metadata": {},
   "outputs": [
    {
     "data": {
      "text/plain": [
       "6"
      ]
     },
     "execution_count": 10,
     "metadata": {},
     "output_type": "execute_result"
    }
   ],
   "source": [
    "2^4"
   ]
  },
  {
   "cell_type": "code",
   "execution_count": 11,
   "id": "b9e15950",
   "metadata": {},
   "outputs": [
    {
     "data": {
      "text/plain": [
       "2.0"
      ]
     },
     "execution_count": 11,
     "metadata": {},
     "output_type": "execute_result"
    }
   ],
   "source": [
    "4/2"
   ]
  },
  {
   "cell_type": "code",
   "execution_count": 12,
   "id": "21adbdf5",
   "metadata": {},
   "outputs": [
    {
     "data": {
      "text/plain": [
       "0"
      ]
     },
     "execution_count": 12,
     "metadata": {},
     "output_type": "execute_result"
    }
   ],
   "source": [
    "4%2"
   ]
  },
  {
   "cell_type": "code",
   "execution_count": 13,
   "id": "3c976f64",
   "metadata": {},
   "outputs": [],
   "source": [
    "x = 1\n",
    "y = 2"
   ]
  },
  {
   "cell_type": "code",
   "execution_count": 14,
   "id": "dea2240b",
   "metadata": {},
   "outputs": [
    {
     "data": {
      "text/plain": [
       "3"
      ]
     },
     "execution_count": 14,
     "metadata": {},
     "output_type": "execute_result"
    }
   ],
   "source": [
    "x+y"
   ]
  },
  {
   "cell_type": "code",
   "execution_count": 18,
   "id": "8e48c58a",
   "metadata": {},
   "outputs": [
    {
     "name": "stdout",
     "output_type": "stream",
     "text": [
      "My name is Adarsh and my my number is 10\n"
     ]
    }
   ],
   "source": [
    "print(\"My name is {} and my number is {}\".format(\"Adarsh\",\"10\"))"
   ]
  },
  {
   "cell_type": "code",
   "execution_count": 21,
   "id": "722798e7",
   "metadata": {},
   "outputs": [
    {
     "name": "stdout",
     "output_type": "stream",
     "text": [
      "First: YYYYYYY and Second: XXX\n"
     ]
    }
   ],
   "source": [
    "print(\"First: {y} and Second: {x}\".format(x=\"XXX\", y=\"YYYYYYY\"))"
   ]
  },
  {
   "cell_type": "code",
   "execution_count": 22,
   "id": "dfc87774",
   "metadata": {},
   "outputs": [
    {
     "data": {
      "text/plain": [
       "[1, 'a', 'xxx']"
      ]
     },
     "execution_count": 22,
     "metadata": {},
     "output_type": "execute_result"
    }
   ],
   "source": [
    "[1,'a', \"xxx\"]"
   ]
  },
  {
   "cell_type": "code",
   "execution_count": 23,
   "id": "b439c666",
   "metadata": {},
   "outputs": [],
   "source": [
    "new_list = [1,'a', \"b\"]"
   ]
  },
  {
   "cell_type": "code",
   "execution_count": 24,
   "id": "3b638fa9",
   "metadata": {},
   "outputs": [
    {
     "data": {
      "text/plain": [
       "[1, 'a', 'b']"
      ]
     },
     "execution_count": 24,
     "metadata": {},
     "output_type": "execute_result"
    }
   ],
   "source": [
    "new_list"
   ]
  },
  {
   "cell_type": "code",
   "execution_count": 25,
   "id": "9ba79928",
   "metadata": {},
   "outputs": [],
   "source": [
    "new_list[0] = 'C'"
   ]
  },
  {
   "cell_type": "code",
   "execution_count": 26,
   "id": "519e2da1",
   "metadata": {},
   "outputs": [
    {
     "data": {
      "text/plain": [
       "['C', 'a', 'b']"
      ]
     },
     "execution_count": 26,
     "metadata": {},
     "output_type": "execute_result"
    }
   ],
   "source": [
    "new_list"
   ]
  },
  {
   "cell_type": "markdown",
   "id": "8f16a796",
   "metadata": {},
   "source": [
    "new_list.append('d')"
   ]
  },
  {
   "cell_type": "code",
   "execution_count": 28,
   "id": "0cc20827",
   "metadata": {},
   "outputs": [],
   "source": [
    "new_list.append('d')"
   ]
  },
  {
   "cell_type": "code",
   "execution_count": 31,
   "id": "935805ff",
   "metadata": {},
   "outputs": [
    {
     "ename": "TypeError",
     "evalue": "'builtin_function_or_method' object is not subscriptable",
     "output_type": "error",
     "traceback": [
      "\u001b[0;31m---------------------------------------------------------------------------\u001b[0m",
      "\u001b[0;31mTypeError\u001b[0m                                 Traceback (most recent call last)",
      "Cell \u001b[0;32mIn[31], line 2\u001b[0m\n\u001b[1;32m      1\u001b[0m new_list\n\u001b[0;32m----> 2\u001b[0m new_list\u001b[38;5;241m.\u001b[39mremove[\u001b[38;5;241m3\u001b[39m]\n",
      "\u001b[0;31mTypeError\u001b[0m: 'builtin_function_or_method' object is not subscriptable"
     ]
    }
   ],
   "source": [
    "new_list"
   ]
  },
  {
   "cell_type": "code",
   "execution_count": 33,
   "id": "86b7e358",
   "metadata": {},
   "outputs": [],
   "source": [
    "del new_list[3]"
   ]
  },
  {
   "cell_type": "code",
   "execution_count": 34,
   "id": "4d96d915",
   "metadata": {},
   "outputs": [
    {
     "data": {
      "text/plain": [
       "['C', 'a', 'b', 'd']"
      ]
     },
     "execution_count": 34,
     "metadata": {},
     "output_type": "execute_result"
    }
   ],
   "source": [
    "new_list"
   ]
  },
  {
   "cell_type": "code",
   "execution_count": 35,
   "id": "a88f9154",
   "metadata": {},
   "outputs": [],
   "source": [
    "new_list.append([\"c\",\"f\"])"
   ]
  },
  {
   "cell_type": "code",
   "execution_count": 36,
   "id": "75bd29ca",
   "metadata": {},
   "outputs": [
    {
     "data": {
      "text/plain": [
       "['C', 'a', 'b', 'd', ['c', 'f']]"
      ]
     },
     "execution_count": 36,
     "metadata": {},
     "output_type": "execute_result"
    }
   ],
   "source": [
    "new_list"
   ]
  },
  {
   "cell_type": "code",
   "execution_count": 37,
   "id": "85ecadce",
   "metadata": {},
   "outputs": [
    {
     "data": {
      "text/plain": [
       "['c', 'f']"
      ]
     },
     "execution_count": 37,
     "metadata": {},
     "output_type": "execute_result"
    }
   ],
   "source": [
    "new_list[4]\n",
    "## order is stored and values are mutable"
   ]
  },
  {
   "cell_type": "code",
   "execution_count": 38,
   "id": "c1e5059a",
   "metadata": {},
   "outputs": [
    {
     "data": {
      "text/plain": [
       "'c'"
      ]
     },
     "execution_count": 38,
     "metadata": {},
     "output_type": "execute_result"
    }
   ],
   "source": [
    "new_list[4][0]"
   ]
  },
  {
   "cell_type": "code",
   "execution_count": 39,
   "id": "3fca9ec2",
   "metadata": {},
   "outputs": [],
   "source": [
    "new_dict = {\"name\": \"Adarsh\", \"age\":28}\n",
    "## order is not stored, only key:value pairs are stored "
   ]
  },
  {
   "cell_type": "code",
   "execution_count": 40,
   "id": "4c37a51d",
   "metadata": {},
   "outputs": [
    {
     "data": {
      "text/plain": [
       "{'name': 'Adarsh', 'age': 28}"
      ]
     },
     "execution_count": 40,
     "metadata": {},
     "output_type": "execute_result"
    }
   ],
   "source": [
    "new_dict"
   ]
  },
  {
   "cell_type": "code",
   "execution_count": 41,
   "id": "94ce77c9",
   "metadata": {},
   "outputs": [
    {
     "ename": "TypeError",
     "evalue": "'dict' object is not callable",
     "output_type": "error",
     "traceback": [
      "\u001b[0;31m---------------------------------------------------------------------------\u001b[0m",
      "\u001b[0;31mTypeError\u001b[0m                                 Traceback (most recent call last)",
      "Cell \u001b[0;32mIn[41], line 1\u001b[0m\n\u001b[0;32m----> 1\u001b[0m new_dict(\u001b[38;5;124m\"\u001b[39m\u001b[38;5;124mname\u001b[39m\u001b[38;5;124m\"\u001b[39m)\n",
      "\u001b[0;31mTypeError\u001b[0m: 'dict' object is not callable"
     ]
    }
   ],
   "source": [
    "new_dict(\"name\")"
   ]
  },
  {
   "cell_type": "code",
   "execution_count": 42,
   "id": "78d2f7c5",
   "metadata": {},
   "outputs": [
    {
     "data": {
      "text/plain": [
       "'Adarsh'"
      ]
     },
     "execution_count": 42,
     "metadata": {},
     "output_type": "execute_result"
    }
   ],
   "source": [
    "new_dict['name']"
   ]
  },
  {
   "cell_type": "code",
   "execution_count": 43,
   "id": "4443cd0f",
   "metadata": {},
   "outputs": [
    {
     "data": {
      "text/plain": [
       "28"
      ]
     },
     "execution_count": 43,
     "metadata": {},
     "output_type": "execute_result"
    }
   ],
   "source": [
    "new_dict['age']"
   ]
  },
  {
   "cell_type": "code",
   "execution_count": 44,
   "id": "8fdd7c18",
   "metadata": {},
   "outputs": [],
   "source": [
    "new_tup = ('adarsh', 'age', 28)"
   ]
  },
  {
   "cell_type": "code",
   "execution_count": 46,
   "id": "50a39c6b",
   "metadata": {},
   "outputs": [
    {
     "data": {
      "text/plain": [
       "'adarsh'"
      ]
     },
     "execution_count": 46,
     "metadata": {},
     "output_type": "execute_result"
    }
   ],
   "source": [
    "new_tup[0]"
   ]
  },
  {
   "cell_type": "code",
   "execution_count": 47,
   "id": "14328d86",
   "metadata": {},
   "outputs": [
    {
     "ename": "TypeError",
     "evalue": "'tuple' object does not support item assignment",
     "output_type": "error",
     "traceback": [
      "\u001b[0;31m---------------------------------------------------------------------------\u001b[0m",
      "\u001b[0;31mTypeError\u001b[0m                                 Traceback (most recent call last)",
      "Cell \u001b[0;32mIn[47], line 1\u001b[0m\n\u001b[0;32m----> 1\u001b[0m new_tup[\u001b[38;5;241m0\u001b[39m] \u001b[38;5;241m=\u001b[39m \u001b[38;5;124m'\u001b[39m\u001b[38;5;124mNikhi\u001b[39m\u001b[38;5;124m'\u001b[39m\n",
      "\u001b[0;31mTypeError\u001b[0m: 'tuple' object does not support item assignment"
     ]
    }
   ],
   "source": [
    "new_tup[0] = 'Nikhi'\n",
    "## tuple elements are immutable"
   ]
  },
  {
   "cell_type": "code",
   "execution_count": 48,
   "id": "a0935474",
   "metadata": {},
   "outputs": [],
   "source": [
    "new_set = {0000,0,1,1,1,1,2,2,2,2,0,0,0,3,3,3,4,5,6,7,7,7}"
   ]
  },
  {
   "cell_type": "code",
   "execution_count": 49,
   "id": "c1c69dcf",
   "metadata": {},
   "outputs": [
    {
     "data": {
      "text/plain": [
       "{0, 1, 2, 3, 4, 5, 6, 7}"
      ]
     },
     "execution_count": 49,
     "metadata": {},
     "output_type": "execute_result"
    }
   ],
   "source": [
    "new_set\n",
    "## only distinct values are stored in sets, no repitition"
   ]
  },
  {
   "cell_type": "code",
   "execution_count": 50,
   "id": "3f661971",
   "metadata": {},
   "outputs": [
    {
     "data": {
      "text/plain": [
       "False"
      ]
     },
     "execution_count": 50,
     "metadata": {},
     "output_type": "execute_result"
    }
   ],
   "source": [
    "1 == 3"
   ]
  },
  {
   "cell_type": "code",
   "execution_count": 51,
   "id": "6acd57ac",
   "metadata": {},
   "outputs": [
    {
     "data": {
      "text/plain": [
       "False"
      ]
     },
     "execution_count": 51,
     "metadata": {},
     "output_type": "execute_result"
    }
   ],
   "source": [
    "'A' == 'a'"
   ]
  },
  {
   "cell_type": "code",
   "execution_count": 52,
   "id": "b4256c47",
   "metadata": {},
   "outputs": [
    {
     "data": {
      "text/plain": [
       "True"
      ]
     },
     "execution_count": 52,
     "metadata": {},
     "output_type": "execute_result"
    }
   ],
   "source": [
    "1 < 5"
   ]
  },
  {
   "cell_type": "code",
   "execution_count": 53,
   "id": "33131da6",
   "metadata": {},
   "outputs": [
    {
     "data": {
      "text/plain": [
       "True"
      ]
     },
     "execution_count": 53,
     "metadata": {},
     "output_type": "execute_result"
    }
   ],
   "source": [
    "1 <= 5"
   ]
  },
  {
   "cell_type": "code",
   "execution_count": 55,
   "id": "eccd6629",
   "metadata": {},
   "outputs": [
    {
     "data": {
      "text/plain": [
       "False"
      ]
     },
     "execution_count": 55,
     "metadata": {},
     "output_type": "execute_result"
    }
   ],
   "source": [
    "1 >= 5"
   ]
  },
  {
   "cell_type": "code",
   "execution_count": 56,
   "id": "a846515b",
   "metadata": {},
   "outputs": [
    {
     "data": {
      "text/plain": [
       "True"
      ]
     },
     "execution_count": 56,
     "metadata": {},
     "output_type": "execute_result"
    }
   ],
   "source": [
    "1 != 5"
   ]
  },
  {
   "cell_type": "code",
   "execution_count": 58,
   "id": "1c0508d5",
   "metadata": {},
   "outputs": [
    {
     "data": {
      "text/plain": [
       "False"
      ]
     },
     "execution_count": 58,
     "metadata": {},
     "output_type": "execute_result"
    }
   ],
   "source": [
    "(1==2) and (\"a\" == \"a\")"
   ]
  },
  {
   "cell_type": "code",
   "execution_count": 59,
   "id": "f70016a7",
   "metadata": {},
   "outputs": [
    {
     "data": {
      "text/plain": [
       "True"
      ]
     },
     "execution_count": 59,
     "metadata": {},
     "output_type": "execute_result"
    }
   ],
   "source": [
    "(1==1) and (\"a\" == \"a\")"
   ]
  },
  {
   "cell_type": "code",
   "execution_count": 60,
   "id": "6486f6b1",
   "metadata": {},
   "outputs": [
    {
     "data": {
      "text/plain": [
       "True"
      ]
     },
     "execution_count": 60,
     "metadata": {},
     "output_type": "execute_result"
    }
   ],
   "source": [
    "(1==2) or (\"a\" == \"a\")"
   ]
  },
  {
   "cell_type": "code",
   "execution_count": 61,
   "id": "e225f265",
   "metadata": {},
   "outputs": [
    {
     "data": {
      "text/plain": [
       "True"
      ]
     },
     "execution_count": 61,
     "metadata": {},
     "output_type": "execute_result"
    }
   ],
   "source": [
    "(1==1) & (\"a\" == \"a\")"
   ]
  },
  {
   "cell_type": "code",
   "execution_count": 62,
   "id": "8eb0d7e4",
   "metadata": {},
   "outputs": [
    {
     "name": "stdout",
     "output_type": "stream",
     "text": [
      "good job\n"
     ]
    }
   ],
   "source": [
    "if 1 == 1:\n",
    "    print(\"good job\")"
   ]
  },
  {
   "cell_type": "code",
   "execution_count": 63,
   "id": "020d3152",
   "metadata": {},
   "outputs": [
    {
     "name": "stdout",
     "output_type": "stream",
     "text": [
      "nope\n"
     ]
    }
   ],
   "source": [
    "if 1==2:\n",
    "    print(\"worked\")\n",
    "else:\n",
    "    print(\"nope\")"
   ]
  },
  {
   "cell_type": "code",
   "execution_count": 64,
   "id": "f8c9e40b",
   "metadata": {},
   "outputs": [
    {
     "name": "stdout",
     "output_type": "stream",
     "text": [
      "NOT\n"
     ]
    }
   ],
   "source": [
    "if 1==2:\n",
    "    print(\"nope\")\n",
    "elif 1!=2:\n",
    "    print(\"NOT\")\n",
    "else:\n",
    "    print(\"0\")"
   ]
  },
  {
   "cell_type": "code",
   "execution_count": 65,
   "id": "b0ebd089",
   "metadata": {},
   "outputs": [
    {
     "data": {
      "text/plain": [
       "['C', 'a', 'b', 'd', ['c', 'f']]"
      ]
     },
     "execution_count": 65,
     "metadata": {},
     "output_type": "execute_result"
    }
   ],
   "source": [
    "new_list"
   ]
  },
  {
   "cell_type": "code",
   "execution_count": 67,
   "id": "6d357095",
   "metadata": {},
   "outputs": [
    {
     "name": "stdout",
     "output_type": "stream",
     "text": [
      "C\n",
      "a\n",
      "b\n",
      "d\n",
      "['c', 'f']\n"
     ]
    }
   ],
   "source": [
    "for x in new_list:\n",
    "    print(x)"
   ]
  },
  {
   "cell_type": "code",
   "execution_count": 68,
   "id": "9b7221ea",
   "metadata": {},
   "outputs": [
    {
     "name": "stdout",
     "output_type": "stream",
     "text": [
      "CC\n",
      "aa\n",
      "bb\n",
      "dd\n",
      "['c', 'f', 'c', 'f']\n"
     ]
    }
   ],
   "source": [
    "for x in new_list:\n",
    "    print(x+x)"
   ]
  },
  {
   "cell_type": "code",
   "execution_count": 69,
   "id": "8fc581c5",
   "metadata": {},
   "outputs": [
    {
     "name": "stdout",
     "output_type": "stream",
     "text": [
      "i = 1\n",
      "i = 2\n",
      "i = 3\n",
      "i = 4\n"
     ]
    }
   ],
   "source": [
    "i = 1\n",
    "while i <5:\n",
    "    print(\"i = {}\".format(i))\n",
    "    i+=1\n"
   ]
  },
  {
   "cell_type": "code",
   "execution_count": 70,
   "id": "f0389e8d",
   "metadata": {},
   "outputs": [],
   "source": [
    "x =[1,2,3,4,5]"
   ]
  },
  {
   "cell_type": "code",
   "execution_count": 71,
   "id": "91be0b5c",
   "metadata": {},
   "outputs": [
    {
     "data": {
      "text/plain": [
       "range(0, 5)"
      ]
     },
     "execution_count": 71,
     "metadata": {},
     "output_type": "execute_result"
    }
   ],
   "source": [
    "range(5)"
   ]
  },
  {
   "cell_type": "code",
   "execution_count": 72,
   "id": "cc62b2db",
   "metadata": {},
   "outputs": [
    {
     "data": {
      "text/plain": [
       "[0, 1, 2, 3, 4]"
      ]
     },
     "execution_count": 72,
     "metadata": {},
     "output_type": "execute_result"
    }
   ],
   "source": [
    "list(range(5))"
   ]
  },
  {
   "cell_type": "code",
   "execution_count": 74,
   "id": "9c413955",
   "metadata": {},
   "outputs": [
    {
     "name": "stdout",
     "output_type": "stream",
     "text": [
      "[4, 5, 6, 7, 8, 9]\n"
     ]
    }
   ],
   "source": [
    "y = list(range(4,10))\n",
    "print(y)"
   ]
  },
  {
   "cell_type": "code",
   "execution_count": 83,
   "id": "faa9b6bd",
   "metadata": {},
   "outputs": [
    {
     "name": "stdout",
     "output_type": "stream",
     "text": [
      "[2, 4, 6]\n"
     ]
    }
   ],
   "source": [
    "z = list(range(2,7,2))\n",
    "print(z)"
   ]
  },
  {
   "cell_type": "code",
   "execution_count": 79,
   "id": "3fae4847",
   "metadata": {},
   "outputs": [
    {
     "name": "stdout",
     "output_type": "stream",
     "text": [
      "Yolo\n",
      "Yolo\n",
      "Yolo\n",
      "Yolo\n",
      "Yolo\n"
     ]
    }
   ],
   "source": [
    "for x in range(5):\n",
    "    print(\"Yolo\")"
   ]
  },
  {
   "cell_type": "code",
   "execution_count": 84,
   "id": "e5cf00dc",
   "metadata": {},
   "outputs": [
    {
     "name": "stdout",
     "output_type": "stream",
     "text": [
      "[0, 1, 4, 9, 16, 25]\n"
     ]
    }
   ],
   "source": [
    "x = []\n",
    "for i in range(6):\n",
    "    x.append(i**2)\n",
    "print(x)"
   ]
  },
  {
   "cell_type": "code",
   "execution_count": 85,
   "id": "85fa2c6f",
   "metadata": {},
   "outputs": [
    {
     "data": {
      "text/plain": [
       "[0, 1, 4, 9, 16, 25]"
      ]
     },
     "execution_count": 85,
     "metadata": {},
     "output_type": "execute_result"
    }
   ],
   "source": [
    "[i**2 for i in range(6)]\n",
    "# this is called 'list comprehension'"
   ]
  },
  {
   "cell_type": "code",
   "execution_count": 86,
   "id": "1f46363d",
   "metadata": {},
   "outputs": [],
   "source": [
    "def my_func():\n",
    "    print(\"Hello\")"
   ]
  },
  {
   "cell_type": "code",
   "execution_count": 87,
   "id": "6213f537",
   "metadata": {},
   "outputs": [
    {
     "name": "stdout",
     "output_type": "stream",
     "text": [
      "Hello\n"
     ]
    }
   ],
   "source": [
    "my_func()"
   ]
  },
  {
   "cell_type": "code",
   "execution_count": 88,
   "id": "4b6c7677",
   "metadata": {},
   "outputs": [
    {
     "name": "stdout",
     "output_type": "stream",
     "text": [
      "hello World\n"
     ]
    }
   ],
   "source": [
    "def my_func1(name):\n",
    "    print(\"hello \"+name)\n",
    "my_func1(\"World\")"
   ]
  },
  {
   "cell_type": "code",
   "execution_count": 89,
   "id": "39b8fe84",
   "metadata": {},
   "outputs": [],
   "source": [
    "def my_func2():\n",
    "    '''\n",
    "    This is reference only \n",
    "    '''\n",
    "    print(\"Hello world\")\n",
    "## to reference, shift+tab"
   ]
  },
  {
   "cell_type": "code",
   "execution_count": 90,
   "id": "cd29d75d",
   "metadata": {},
   "outputs": [
    {
     "name": "stdout",
     "output_type": "stream",
     "text": [
      "Hello world\n"
     ]
    }
   ],
   "source": [
    "my_func2()"
   ]
  },
  {
   "cell_type": "code",
   "execution_count": 92,
   "id": "57785d38",
   "metadata": {},
   "outputs": [],
   "source": [
    "def my_func3(x):\n",
    "    return x**2\n"
   ]
  },
  {
   "cell_type": "code",
   "execution_count": 93,
   "id": "fb0a2ec1",
   "metadata": {},
   "outputs": [
    {
     "data": {
      "text/plain": [
       "25"
      ]
     },
     "execution_count": 93,
     "metadata": {},
     "output_type": "execute_result"
    }
   ],
   "source": [
    "my_func3(5)\n",
    "## return vs print: return will save the value in 'x' while print will not "
   ]
  },
  {
   "cell_type": "code",
   "execution_count": 94,
   "id": "bced922e",
   "metadata": {},
   "outputs": [
    {
     "name": "stdout",
     "output_type": "stream",
     "text": [
      "16\n"
     ]
    }
   ],
   "source": [
    "abc = my_func3(4)\n",
    "print(abc)"
   ]
  },
  {
   "cell_type": "code",
   "execution_count": 95,
   "id": "ca9cfbb6",
   "metadata": {},
   "outputs": [
    {
     "data": {
      "text/plain": [
       "int"
      ]
     },
     "execution_count": 95,
     "metadata": {},
     "output_type": "execute_result"
    }
   ],
   "source": [
    "type(abc)"
   ]
  },
  {
   "cell_type": "code",
   "execution_count": 96,
   "id": "27beb444",
   "metadata": {},
   "outputs": [],
   "source": [
    "def times_two(var):\n",
    "    return(var*2)"
   ]
  },
  {
   "cell_type": "code",
   "execution_count": 97,
   "id": "e6035c86",
   "metadata": {},
   "outputs": [
    {
     "data": {
      "text/plain": [
       "10"
      ]
     },
     "execution_count": 97,
     "metadata": {},
     "output_type": "execute_result"
    }
   ],
   "source": [
    "times_two(5)"
   ]
  },
  {
   "cell_type": "code",
   "execution_count": 99,
   "id": "63efdfc0",
   "metadata": {},
   "outputs": [
    {
     "ename": "SyntaxError",
     "evalue": "invalid syntax (706219039.py, line 1)",
     "output_type": "error",
     "traceback": [
      "\u001b[0;36m  Cell \u001b[0;32mIn[99], line 1\u001b[0;36m\u001b[0m\n\u001b[0;31m    lamda var: var*2\u001b[0m\n\u001b[0m          ^\u001b[0m\n\u001b[0;31mSyntaxError\u001b[0m\u001b[0;31m:\u001b[0m invalid syntax\n"
     ]
    }
   ],
   "source": [
    "lamda var: var*2\n",
    "## lamda functions are functions with no name, and one time use only, also called anonymous function "
   ]
  },
  {
   "cell_type": "code",
   "execution_count": 100,
   "id": "758d63f1",
   "metadata": {},
   "outputs": [
    {
     "data": {
      "text/plain": [
       "'this is a sentence'"
      ]
     },
     "execution_count": 100,
     "metadata": {},
     "output_type": "execute_result"
    }
   ],
   "source": [
    "string1 = \"This is a Sentence\"\n",
    "string1.lower()"
   ]
  },
  {
   "cell_type": "code",
   "execution_count": 101,
   "id": "645d5ffc",
   "metadata": {},
   "outputs": [
    {
     "data": {
      "text/plain": [
       "'THIS IS A SENTENCE'"
      ]
     },
     "execution_count": 101,
     "metadata": {},
     "output_type": "execute_result"
    }
   ],
   "source": [
    "string1.upper()"
   ]
  },
  {
   "cell_type": "code",
   "execution_count": 102,
   "id": "3d80181d",
   "metadata": {},
   "outputs": [],
   "source": [
    "string1_list = string1.split()"
   ]
  },
  {
   "cell_type": "code",
   "execution_count": 103,
   "id": "553529b8",
   "metadata": {},
   "outputs": [
    {
     "name": "stdout",
     "output_type": "stream",
     "text": [
      "['This', 'is', 'a', 'Sentence']\n"
     ]
    }
   ],
   "source": [
    "print(string1_list)"
   ]
  },
  {
   "cell_type": "code",
   "execution_count": 104,
   "id": "ad818c8c",
   "metadata": {},
   "outputs": [
    {
     "data": {
      "text/plain": [
       "['This is ', ' Sentence']"
      ]
     },
     "execution_count": 104,
     "metadata": {},
     "output_type": "execute_result"
    }
   ],
   "source": [
    "string1.split('a')\n",
    "## splits the string to a list at 'a' as a delimiter "
   ]
  },
  {
   "cell_type": "code",
   "execution_count": 105,
   "id": "caa9dac3",
   "metadata": {},
   "outputs": [],
   "source": [
    "d = {'k1':'v1', 'k2':'v2'}"
   ]
  },
  {
   "cell_type": "code",
   "execution_count": 106,
   "id": "15848132",
   "metadata": {},
   "outputs": [
    {
     "data": {
      "text/plain": [
       "dict_keys(['k1', 'k2'])"
      ]
     },
     "execution_count": 106,
     "metadata": {},
     "output_type": "execute_result"
    }
   ],
   "source": [
    "d.keys()"
   ]
  },
  {
   "cell_type": "code",
   "execution_count": 107,
   "id": "28635e58",
   "metadata": {},
   "outputs": [
    {
     "data": {
      "text/plain": [
       "dict_items([('k1', 'v1'), ('k2', 'v2')])"
      ]
     },
     "execution_count": 107,
     "metadata": {},
     "output_type": "execute_result"
    }
   ],
   "source": [
    "d.items()"
   ]
  },
  {
   "cell_type": "code",
   "execution_count": 109,
   "id": "e1a97c32",
   "metadata": {},
   "outputs": [
    {
     "data": {
      "text/plain": [
       "['This', 'is', 'a', 'Sentence']"
      ]
     },
     "execution_count": 109,
     "metadata": {},
     "output_type": "execute_result"
    }
   ],
   "source": [
    "string1_list"
   ]
  },
  {
   "cell_type": "code",
   "execution_count": 112,
   "id": "0217cf96",
   "metadata": {},
   "outputs": [
    {
     "name": "stdout",
     "output_type": "stream",
     "text": [
      "a\n"
     ]
    },
    {
     "data": {
      "text/plain": [
       "['This', 'is']"
      ]
     },
     "execution_count": 112,
     "metadata": {},
     "output_type": "execute_result"
    }
   ],
   "source": [
    "last = string1_list.pop()\n",
    "print(last)\n",
    "string1_list"
   ]
  },
  {
   "cell_type": "code",
   "execution_count": 115,
   "id": "2aeaadeb",
   "metadata": {},
   "outputs": [
    {
     "data": {
      "text/plain": [
       "['This', 'is', 'a', 'Sentence']"
      ]
     },
     "execution_count": 115,
     "metadata": {},
     "output_type": "execute_result"
    }
   ],
   "source": [
    "string1_list = string1.split()\n",
    "string1_list"
   ]
  },
  {
   "cell_type": "code",
   "execution_count": 116,
   "id": "7ca8723d",
   "metadata": {},
   "outputs": [],
   "source": [
    "last = string1_list.pop()"
   ]
  },
  {
   "cell_type": "code",
   "execution_count": 117,
   "id": "719ad6ea",
   "metadata": {},
   "outputs": [
    {
     "data": {
      "text/plain": [
       "'Sentence'"
      ]
     },
     "execution_count": 117,
     "metadata": {},
     "output_type": "execute_result"
    }
   ],
   "source": [
    "last"
   ]
  },
  {
   "cell_type": "code",
   "execution_count": 118,
   "id": "049d6d42",
   "metadata": {},
   "outputs": [
    {
     "name": "stdout",
     "output_type": "stream",
     "text": [
      "Sentence\n"
     ]
    }
   ],
   "source": [
    "print(last)"
   ]
  },
  {
   "cell_type": "code",
   "execution_count": 119,
   "id": "097d93ea",
   "metadata": {},
   "outputs": [
    {
     "data": {
      "text/plain": [
       "['This', 'is', 'a']"
      ]
     },
     "execution_count": 119,
     "metadata": {},
     "output_type": "execute_result"
    }
   ],
   "source": [
    "string1_list"
   ]
  },
  {
   "cell_type": "code",
   "execution_count": 120,
   "id": "e4fdf812",
   "metadata": {},
   "outputs": [],
   "source": [
    "first = string1_list.pop(0)\n",
    "## pop is used to remove item from a list, last item by default, but can also specify which one with index "
   ]
  },
  {
   "cell_type": "code",
   "execution_count": 121,
   "id": "e9add94c",
   "metadata": {},
   "outputs": [
    {
     "data": {
      "text/plain": [
       "'This'"
      ]
     },
     "execution_count": 121,
     "metadata": {},
     "output_type": "execute_result"
    }
   ],
   "source": [
    "first"
   ]
  },
  {
   "cell_type": "code",
   "execution_count": 122,
   "id": "7bf6f7f4",
   "metadata": {},
   "outputs": [
    {
     "data": {
      "text/plain": [
       "['is', 'a']"
      ]
     },
     "execution_count": 122,
     "metadata": {},
     "output_type": "execute_result"
    }
   ],
   "source": [
    "string1_list"
   ]
  },
  {
   "cell_type": "code",
   "execution_count": 124,
   "id": "4cea8195",
   "metadata": {},
   "outputs": [
    {
     "data": {
      "text/plain": [
       "['C', 'a', 'b', 'd', ['c', 'f']]"
      ]
     },
     "execution_count": 124,
     "metadata": {},
     "output_type": "execute_result"
    }
   ],
   "source": [
    "new_list"
   ]
  },
  {
   "cell_type": "code",
   "execution_count": 125,
   "id": "1c1618c5",
   "metadata": {},
   "outputs": [
    {
     "data": {
      "text/plain": [
       "False"
      ]
     },
     "execution_count": 125,
     "metadata": {},
     "output_type": "execute_result"
    }
   ],
   "source": [
    "'x' in new_list"
   ]
  },
  {
   "cell_type": "code",
   "execution_count": 126,
   "id": "643537f5",
   "metadata": {},
   "outputs": [
    {
     "data": {
      "text/plain": [
       "True"
      ]
     },
     "execution_count": 126,
     "metadata": {},
     "output_type": "execute_result"
    }
   ],
   "source": [
    "\"a\" in new_list"
   ]
  }
 ],
 "metadata": {
  "kernelspec": {
   "display_name": "Python 3 (ipykernel)",
   "language": "python",
   "name": "python3"
  },
  "language_info": {
   "codemirror_mode": {
    "name": "ipython",
    "version": 3
   },
   "file_extension": ".py",
   "mimetype": "text/x-python",
   "name": "python",
   "nbconvert_exporter": "python",
   "pygments_lexer": "ipython3",
   "version": "3.11.2"
  }
 },
 "nbformat": 4,
 "nbformat_minor": 5
}
